{
 "cells": [
  {
   "cell_type": "code",
   "execution_count": 1,
   "id": "e379948a",
   "metadata": {},
   "outputs": [],
   "source": [
    "# Load libraries\n",
    "import pandas as pd\n",
    "from sklearn.tree import DecisionTreeClassifier # Import Decision Tree Classifier\n",
    "from sklearn.model_selection import train_test_split # Import train_test_split function\n",
    "from sklearn import metrics #Import scikit-learn metrics module for accuracy calculation\n"
   ]
  },
  {
   "cell_type": "code",
   "execution_count": 25,
   "id": "ce844374",
   "metadata": {},
   "outputs": [],
   "source": [
    "col_names = ['ukuran', 'lantai', 'tarif_internet', 'tipe_bangunan', 'harga_sewa', 'kategori']\n",
    "# load dataset\n",
    "pima = pd.read_excel(\"Datagedung.xlsx\", header=None, names=col_names)"
   ]
  },
  {
   "cell_type": "code",
   "execution_count": 26,
   "id": "8c1600b5",
   "metadata": {},
   "outputs": [
    {
     "data": {
      "text/html": [
       "<div>\n",
       "<style scoped>\n",
       "    .dataframe tbody tr th:only-of-type {\n",
       "        vertical-align: middle;\n",
       "    }\n",
       "\n",
       "    .dataframe tbody tr th {\n",
       "        vertical-align: top;\n",
       "    }\n",
       "\n",
       "    .dataframe thead th {\n",
       "        text-align: right;\n",
       "    }\n",
       "</style>\n",
       "<table border=\"1\" class=\"dataframe\">\n",
       "  <thead>\n",
       "    <tr style=\"text-align: right;\">\n",
       "      <th></th>\n",
       "      <th>ukuran</th>\n",
       "      <th>lantai</th>\n",
       "      <th>tarif_internet</th>\n",
       "      <th>tipe_bangunan</th>\n",
       "      <th>harga_sewa</th>\n",
       "      <th>kategori</th>\n",
       "    </tr>\n",
       "  </thead>\n",
       "  <tbody>\n",
       "    <tr>\n",
       "      <th>0</th>\n",
       "      <td>510</td>\n",
       "      <td>4</td>\n",
       "      <td>8</td>\n",
       "      <td>C</td>\n",
       "      <td>320</td>\n",
       "      <td>Biasa</td>\n",
       "    </tr>\n",
       "    <tr>\n",
       "      <th>1</th>\n",
       "      <td>550</td>\n",
       "      <td>7</td>\n",
       "      <td>50</td>\n",
       "      <td>A</td>\n",
       "      <td>385</td>\n",
       "      <td>Biasa</td>\n",
       "    </tr>\n",
       "    <tr>\n",
       "      <th>2</th>\n",
       "      <td>620</td>\n",
       "      <td>9</td>\n",
       "      <td>7</td>\n",
       "      <td>C</td>\n",
       "      <td>400</td>\n",
       "      <td>VIP</td>\n",
       "    </tr>\n",
       "    <tr>\n",
       "      <th>3</th>\n",
       "      <td>630</td>\n",
       "      <td>5</td>\n",
       "      <td>24</td>\n",
       "      <td>B</td>\n",
       "      <td>392</td>\n",
       "      <td>Biasa</td>\n",
       "    </tr>\n",
       "    <tr>\n",
       "      <th>4</th>\n",
       "      <td>655</td>\n",
       "      <td>8</td>\n",
       "      <td>100</td>\n",
       "      <td>A</td>\n",
       "      <td>380</td>\n",
       "      <td>Biasa</td>\n",
       "    </tr>\n",
       "    <tr>\n",
       "      <th>5</th>\n",
       "      <td>700</td>\n",
       "      <td>4</td>\n",
       "      <td>8</td>\n",
       "      <td>C</td>\n",
       "      <td>410</td>\n",
       "      <td>VIP</td>\n",
       "    </tr>\n",
       "    <tr>\n",
       "      <th>6</th>\n",
       "      <td>780</td>\n",
       "      <td>10</td>\n",
       "      <td>7</td>\n",
       "      <td>C</td>\n",
       "      <td>480</td>\n",
       "      <td>VIP</td>\n",
       "    </tr>\n",
       "    <tr>\n",
       "      <th>7</th>\n",
       "      <td>800</td>\n",
       "      <td>12</td>\n",
       "      <td>50</td>\n",
       "      <td>A</td>\n",
       "      <td>600</td>\n",
       "      <td>Eksklusif</td>\n",
       "    </tr>\n",
       "    <tr>\n",
       "      <th>8</th>\n",
       "      <td>920</td>\n",
       "      <td>14</td>\n",
       "      <td>8</td>\n",
       "      <td>C</td>\n",
       "      <td>570</td>\n",
       "      <td>Eksklusif</td>\n",
       "    </tr>\n",
       "    <tr>\n",
       "      <th>9</th>\n",
       "      <td>1000</td>\n",
       "      <td>9</td>\n",
       "      <td>24</td>\n",
       "      <td>B</td>\n",
       "      <td>620</td>\n",
       "      <td>Eksklusif</td>\n",
       "    </tr>\n",
       "  </tbody>\n",
       "</table>\n",
       "</div>"
      ],
      "text/plain": [
       "   ukuran  lantai  tarif_internet tipe_bangunan  harga_sewa   kategori\n",
       "0     510       4               8             C         320      Biasa\n",
       "1     550       7              50             A         385      Biasa\n",
       "2     620       9               7             C         400        VIP\n",
       "3     630       5              24             B         392      Biasa\n",
       "4     655       8             100             A         380      Biasa\n",
       "5     700       4               8             C         410        VIP\n",
       "6     780      10               7             C         480        VIP\n",
       "7     800      12              50             A         600  Eksklusif\n",
       "8     920      14               8             C         570  Eksklusif\n",
       "9    1000       9              24             B         620  Eksklusif"
      ]
     },
     "execution_count": 26,
     "metadata": {},
     "output_type": "execute_result"
    }
   ],
   "source": [
    "pima"
   ]
  },
  {
   "cell_type": "code",
   "execution_count": 29,
   "id": "f1145a6b",
   "metadata": {},
   "outputs": [],
   "source": [
    "from sklearn.preprocessing import LabelEncoder\n",
    "le = LabelEncoder()"
   ]
  },
  {
   "cell_type": "code",
   "execution_count": 33,
   "id": "3cf5ac52",
   "metadata": {},
   "outputs": [
    {
     "data": {
      "text/html": [
       "<div>\n",
       "<style scoped>\n",
       "    .dataframe tbody tr th:only-of-type {\n",
       "        vertical-align: middle;\n",
       "    }\n",
       "\n",
       "    .dataframe tbody tr th {\n",
       "        vertical-align: top;\n",
       "    }\n",
       "\n",
       "    .dataframe thead th {\n",
       "        text-align: right;\n",
       "    }\n",
       "</style>\n",
       "<table border=\"1\" class=\"dataframe\">\n",
       "  <thead>\n",
       "    <tr style=\"text-align: right;\">\n",
       "      <th></th>\n",
       "      <th>ukuran</th>\n",
       "      <th>lantai</th>\n",
       "      <th>tarif_internet</th>\n",
       "      <th>tipe_bangunan</th>\n",
       "      <th>harga_sewa</th>\n",
       "      <th>kategori</th>\n",
       "    </tr>\n",
       "  </thead>\n",
       "  <tbody>\n",
       "    <tr>\n",
       "      <th>0</th>\n",
       "      <td>510</td>\n",
       "      <td>4</td>\n",
       "      <td>8</td>\n",
       "      <td>2</td>\n",
       "      <td>320</td>\n",
       "      <td>0</td>\n",
       "    </tr>\n",
       "    <tr>\n",
       "      <th>1</th>\n",
       "      <td>550</td>\n",
       "      <td>7</td>\n",
       "      <td>50</td>\n",
       "      <td>0</td>\n",
       "      <td>385</td>\n",
       "      <td>0</td>\n",
       "    </tr>\n",
       "    <tr>\n",
       "      <th>2</th>\n",
       "      <td>620</td>\n",
       "      <td>9</td>\n",
       "      <td>7</td>\n",
       "      <td>2</td>\n",
       "      <td>400</td>\n",
       "      <td>2</td>\n",
       "    </tr>\n",
       "    <tr>\n",
       "      <th>3</th>\n",
       "      <td>630</td>\n",
       "      <td>5</td>\n",
       "      <td>24</td>\n",
       "      <td>1</td>\n",
       "      <td>392</td>\n",
       "      <td>0</td>\n",
       "    </tr>\n",
       "    <tr>\n",
       "      <th>4</th>\n",
       "      <td>655</td>\n",
       "      <td>8</td>\n",
       "      <td>100</td>\n",
       "      <td>0</td>\n",
       "      <td>380</td>\n",
       "      <td>0</td>\n",
       "    </tr>\n",
       "    <tr>\n",
       "      <th>5</th>\n",
       "      <td>700</td>\n",
       "      <td>4</td>\n",
       "      <td>8</td>\n",
       "      <td>2</td>\n",
       "      <td>410</td>\n",
       "      <td>2</td>\n",
       "    </tr>\n",
       "    <tr>\n",
       "      <th>6</th>\n",
       "      <td>780</td>\n",
       "      <td>10</td>\n",
       "      <td>7</td>\n",
       "      <td>2</td>\n",
       "      <td>480</td>\n",
       "      <td>2</td>\n",
       "    </tr>\n",
       "    <tr>\n",
       "      <th>7</th>\n",
       "      <td>800</td>\n",
       "      <td>12</td>\n",
       "      <td>50</td>\n",
       "      <td>0</td>\n",
       "      <td>600</td>\n",
       "      <td>1</td>\n",
       "    </tr>\n",
       "    <tr>\n",
       "      <th>8</th>\n",
       "      <td>920</td>\n",
       "      <td>14</td>\n",
       "      <td>8</td>\n",
       "      <td>2</td>\n",
       "      <td>570</td>\n",
       "      <td>1</td>\n",
       "    </tr>\n",
       "    <tr>\n",
       "      <th>9</th>\n",
       "      <td>1000</td>\n",
       "      <td>9</td>\n",
       "      <td>24</td>\n",
       "      <td>1</td>\n",
       "      <td>620</td>\n",
       "      <td>1</td>\n",
       "    </tr>\n",
       "  </tbody>\n",
       "</table>\n",
       "</div>"
      ],
      "text/plain": [
       "   ukuran  lantai  tarif_internet  tipe_bangunan  harga_sewa  kategori\n",
       "0     510       4               8              2         320         0\n",
       "1     550       7              50              0         385         0\n",
       "2     620       9               7              2         400         2\n",
       "3     630       5              24              1         392         0\n",
       "4     655       8             100              0         380         0\n",
       "5     700       4               8              2         410         2\n",
       "6     780      10               7              2         480         2\n",
       "7     800      12              50              0         600         1\n",
       "8     920      14               8              2         570         1\n",
       "9    1000       9              24              1         620         1"
      ]
     },
     "execution_count": 33,
     "metadata": {},
     "output_type": "execute_result"
    }
   ],
   "source": [
    "pima.tipe_bangunan = le.fit_transform(pima.tipe_bangunan)\n",
    "pima.kategori = le.fit_transform(pima.kategori)\n",
    "pima"
   ]
  },
  {
   "cell_type": "code",
   "execution_count": 34,
   "id": "1208c5e5",
   "metadata": {},
   "outputs": [],
   "source": [
    "#split dataset in features and target variable\n",
    "feature_cols = ['ukuran', 'lantai', 'tarif_internet', 'tipe_bangunan', 'harga_sewa']\n",
    "X = pima[feature_cols] # Features\n",
    "y = pima.kategori # Target variable\n"
   ]
  },
  {
   "cell_type": "code",
   "execution_count": 35,
   "id": "f2469724",
   "metadata": {},
   "outputs": [],
   "source": [
    "# Split dataset into training set and test set\n",
    "X_train, X_test, y_train, y_test = train_test_split(X, y, test_size=0.3, random_state=1) # 70% training and 30% test"
   ]
  },
  {
   "cell_type": "code",
   "execution_count": 36,
   "id": "02329ebf",
   "metadata": {},
   "outputs": [],
   "source": [
    "# Create Decision Tree classifer object\n",
    "clf = DecisionTreeClassifier()\n",
    "\n",
    "# Train Decision Tree Classifer\n",
    "clf = clf.fit(X_train,y_train)\n",
    "\n",
    "#Predict the response for test dataset\n",
    "y_pred = clf.predict(X_test)\n"
   ]
  },
  {
   "cell_type": "code",
   "execution_count": 39,
   "id": "98f090b0",
   "metadata": {},
   "outputs": [
    {
     "name": "stdout",
     "output_type": "stream",
     "text": [
      "Accuracy: 0.6666666666666666\n"
     ]
    }
   ],
   "source": [
    "print(\"Accuracy:\",metrics.accuracy_score(y_test, y_pred))"
   ]
  },
  {
   "cell_type": "code",
   "execution_count": 43,
   "id": "ec63ba32",
   "metadata": {},
   "outputs": [],
   "source": [
    "from sklearn import tree\n",
    "from sklearn.tree import plot_tree"
   ]
  },
  {
   "cell_type": "code",
   "execution_count": 44,
   "id": "6f265308",
   "metadata": {},
   "outputs": [
    {
     "data": {
      "text/plain": [
       "[Text(0.4, 0.8333333333333334, 'harga_sewa <= 401.0\\ngini = 0.571\\nsamples = 7\\nvalue = [4, 2, 1]\\nclass = Biasa'),\n",
       " Text(0.2, 0.5, 'gini = 0.0\\nsamples = 4\\nvalue = [4, 0, 0]\\nclass = Biasa'),\n",
       " Text(0.6, 0.5, 'harga_sewa <= 490.0\\ngini = 0.444\\nsamples = 3\\nvalue = [0, 2, 1]\\nclass = Eksklusif'),\n",
       " Text(0.4, 0.16666666666666666, 'gini = 0.0\\nsamples = 1\\nvalue = [0, 0, 1]\\nclass = VIP'),\n",
       " Text(0.8, 0.16666666666666666, 'gini = 0.0\\nsamples = 2\\nvalue = [0, 2, 0]\\nclass = Eksklusif')]"
      ]
     },
     "execution_count": 44,
     "metadata": {},
     "output_type": "execute_result"
    },
    {
     "data": {
      "image/png": "[encoded data removed]",
      "text/plain": [
       "<Figure size 640x480 with 1 Axes>"
      ]
     },
     "metadata": {},
     "output_type": "display_data"
    }
   ],
   "source": [
    "tree.plot_tree(clf, class_names=['Biasa','Eksklusif','VIP'], feature_names=feature_cols, filled=None, rounded=True)"
   ]
  },
  {
   "cell_type": "code",
   "execution_count": null,
   "id": "ced6bffb",
   "metadata": {},
   "outputs": [],
   "source": [
    "col_names2 = ['ukuran', 'lantai', 'tarif_internet', 'tipe_bangunan', 'harga_sewa']\n",
    "# load dataset\n",
    "pima2 = pd.read_excel(\"Datagedungbaru.xlsx\", header=None, names=col_names)"
   ]
  }
 ],
 "metadata": {
  "kernelspec": {
   "display_name": "Python 3 (ipykernel)",
   "language": "python",
   "name": "python3"
  },
  "language_info": {
   "codemirror_mode": {
    "name": "ipython",
    "version": 3
   },
   "file_extension": ".py",
   "mimetype": "text/x-python",
   "name": "python",
   "nbconvert_exporter": "python",
   "pygments_lexer": "ipython3",
   "version": "3.10.9"
  }
 },
 "nbformat": 4,
 "nbformat_minor": 5
}
